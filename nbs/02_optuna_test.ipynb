{
 "cells": [
  {
   "cell_type": "markdown",
   "metadata": {},
   "source": [
    "# Optuna Dashaboard test"
   ]
  },
  {
   "cell_type": "code",
   "execution_count": 10,
   "metadata": {},
   "outputs": [],
   "source": [
    "# | default_exp optuna"
   ]
  },
  {
   "cell_type": "code",
   "execution_count": 11,
   "metadata": {},
   "outputs": [],
   "source": [
    "import logging\n",
    "import sys\n",
    "\n",
    "import optuna"
   ]
  },
  {
   "cell_type": "code",
   "execution_count": 15,
   "metadata": {},
   "outputs": [
    {
     "name": "stderr",
     "output_type": "stream",
     "text": [
      "/run/user/1000/ipykernel_1245607/995493005.py:4: ExperimentalWarning: JournalStorage is experimental (supported from v3.1.0). The interface can change in the future.\n",
      "  storage = optuna.storages.JournalStorage(\n"
     ]
    }
   ],
   "source": [
    "#| eval:False\n",
    "# Define storage online when running the notebook manually (not during test)\n",
    "# storage = \"sqlite:///{}.db\".format(study_name)\n",
    "storage = optuna.storages.JournalStorage(\n",
    "    optuna.storages.JournalFileStorage(\"./journal.db\"),\n",
    ")"
   ]
  },
  {
   "cell_type": "code",
   "execution_count": 10,
   "metadata": {},
   "outputs": [
    {
     "name": "stderr",
     "output_type": "stream",
     "text": [
      "/run/user/1000/ipykernel_92357/3898625973.py:5: ExperimentalWarning: JournalStorage is experimental (supported from v3.1.0). The interface can change in the future.\n",
      "  storage = optuna.storages.JournalStorage(\n",
      "[I 2024-02-12 09:22:55,839] A new study created in Journal with name: example-study2\n"
     ]
    },
    {
     "name": "stdout",
     "output_type": "stream",
     "text": [
      "A new study created in Journal with name: example-study2\n",
      "A new study created in Journal with name: example-study2\n"
     ]
    }
   ],
   "source": [
    "\n",
    "# Add stream handler of stdout to show the messages\n",
    "optuna.logging.get_logger(\"optuna\").addHandler(logging.StreamHandler(sys.stdout))\n",
    "study_name = \"example-study2\"  # Unique identifier of the study.\n",
    "\n",
    "study = optuna.create_study(study_name=study_name, storage=locals().get('storage', None))"
   ]
  },
  {
   "cell_type": "code",
   "execution_count": 11,
   "metadata": {},
   "outputs": [
    {
     "name": "stderr",
     "output_type": "stream",
     "text": [
      "[I 2024-02-12 09:22:55,848] Trial 0 finished with value: 94.22603546380543 and parameters: {'x': -7.707009604600453}. Best is trial 0 with value: 94.22603546380543.\n"
     ]
    },
    {
     "name": "stdout",
     "output_type": "stream",
     "text": [
      "Trial 0 finished with value: 94.22603546380543 and parameters: {'x': -7.707009604600453}. Best is trial 0 with value: 94.22603546380543.\n",
      "Trial 0 finished with value: 94.22603546380543 and parameters: {'x': -7.707009604600453}. Best is trial 0 with value: 94.22603546380543.\n"
     ]
    },
    {
     "name": "stderr",
     "output_type": "stream",
     "text": [
      "[I 2024-02-12 09:22:55,852] Trial 1 finished with value: 50.645214710656646 and parameters: {'x': 9.116545138665014}. Best is trial 1 with value: 50.645214710656646.\n"
     ]
    },
    {
     "name": "stdout",
     "output_type": "stream",
     "text": [
      "Trial 1 finished with value: 50.645214710656646 and parameters: {'x': 9.116545138665014}. Best is trial 1 with value: 50.645214710656646.\n",
      "Trial 1 finished with value: 50.645214710656646 and parameters: {'x': 9.116545138665014}. Best is trial 1 with value: 50.645214710656646.\n"
     ]
    },
    {
     "name": "stderr",
     "output_type": "stream",
     "text": [
      "[I 2024-02-12 09:22:55,855] Trial 2 finished with value: 42.38280490726778 and parameters: {'x': 8.510207746859372}. Best is trial 2 with value: 42.38280490726778.\n"
     ]
    },
    {
     "name": "stdout",
     "output_type": "stream",
     "text": [
      "Trial 2 finished with value: 42.38280490726778 and parameters: {'x': 8.510207746859372}. Best is trial 2 with value: 42.38280490726778.\n",
      "Trial 2 finished with value: 42.38280490726778 and parameters: {'x': 8.510207746859372}. Best is trial 2 with value: 42.38280490726778.\n"
     ]
    }
   ],
   "source": [
    "def objective(trial):\n",
    "    x = trial.suggest_float(\"x\", -10, 10)\n",
    "    return (x - 2) ** 2\n",
    "\n",
    "study.optimize(objective, n_trials=3)"
   ]
  },
  {
   "cell_type": "code",
   "execution_count": 13,
   "metadata": {},
   "outputs": [],
   "source": [
    "import optuna"
   ]
  },
  {
   "cell_type": "code",
   "execution_count": 14,
   "metadata": {},
   "outputs": [
    {
     "data": {
      "text/plain": [
       "'3.5.0'"
      ]
     },
     "execution_count": 14,
     "metadata": {},
     "output_type": "execute_result"
    }
   ],
   "source": [
    "optuna.__version__"
   ]
  }
 ],
 "metadata": {
  "kernelspec": {
   "display_name": "python3",
   "language": "python",
   "name": "python3"
  },
  "language_info": {
   "codemirror_mode": {
    "name": "ipython",
    "version": 3
   },
   "file_extension": ".py",
   "mimetype": "text/x-python",
   "name": "python",
   "nbconvert_exporter": "python",
   "pygments_lexer": "ipython3",
   "version": "3.11.6"
  }
 },
 "nbformat": 4,
 "nbformat_minor": 4
}
