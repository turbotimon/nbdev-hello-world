{
 "cells": [
  {
   "cell_type": "code",
   "execution_count": null,
   "metadata": {},
   "outputs": [],
   "source": [
    "#| hide\n",
    "from nbdev_hello_world.core import *"
   ]
  },
  {
   "cell_type": "markdown",
   "metadata": {},
   "source": [
    "# nbdev-hello-world\n",
    "\n",
    "> Hello world from nbdev"
   ]
  },
  {
   "cell_type": "markdown",
   "metadata": {},
   "source": [
    "This file will become your README and also the index of your documentation."
   ]
  },
  {
   "cell_type": "markdown",
   "metadata": {},
   "source": [
    "# ERTI Notes\n",
    "\n",
    "- make sure venv is activated\n",
    "- nbdev_export works\n",
    "- nbdev_preview works also\n",
    "\n",
    "### Some usefull tipps:\n",
    "\n",
    "- `nbdev_prepare` bundles the following commands:\n",
    "  - `nbdev_export`: Builds the .py modules from Jupyter notebooks\n",
    "  - `nbdev_test`: Tests your notebooks\n",
    "  - `nbdev_clean`: Cleans your notebooks to get rid of extreanous output for git\n",
    "  - `nbdev_readme`: Updates your repo’s README.md file from your index notebook.\n",
    "  \n",
    "Place this in last cell to autom. execute `nbdev_export` when running the whole notebook (or this cell)\n",
    "```pyton\n",
    "#| hide\n",
    "import nbdev; nbdev.nbdev_export()\n",
    "```\n",
    "\n",
    "All directives: <https://nbdev.fast.ai/explanations/directives.html> e.g. \n",
    "- `#|echo: <true|false>` Toggle the visibility of code-cell inputs.\n",
    "- `#|output: <true|false|asis>` Setting this to false hides the output of a cell. Setting this to asis renders the output as raw markdown.\n",
    "\n",
    "**Things you might not know you can do with nbdev**: https://pete88b.github.io/fastpages/nbdev/fastai/jupyter/2020/07/24/nbdev-deep-dive.html\n"
   ]
  },
  {
   "cell_type": "markdown",
   "metadata": {},
   "source": [
    "## Install"
   ]
  },
  {
   "cell_type": "markdown",
   "metadata": {},
   "source": [
    "```sh\n",
    "pip install nbdev_hello_world\n",
    "```"
   ]
  },
  {
   "cell_type": "markdown",
   "metadata": {},
   "source": [
    "## How to use"
   ]
  },
  {
   "cell_type": "markdown",
   "metadata": {},
   "source": [
    "Fill me in please! Don't forget code examples:"
   ]
  },
  {
   "cell_type": "code",
   "execution_count": null,
   "metadata": {},
   "outputs": [
    {
     "data": {
      "text/plain": [
       "2"
      ]
     },
     "execution_count": null,
     "metadata": {},
     "output_type": "execute_result"
    }
   ],
   "source": [
    "1+1"
   ]
  },
  {
   "cell_type": "code",
   "execution_count": null,
   "metadata": {},
   "outputs": [],
   "source": []
  }
 ],
 "metadata": {
  "kernelspec": {
   "display_name": "python3",
   "language": "python",
   "name": "python3"
  }
 },
 "nbformat": 4,
 "nbformat_minor": 4
}
